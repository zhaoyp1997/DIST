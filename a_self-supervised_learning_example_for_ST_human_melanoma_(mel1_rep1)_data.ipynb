{
 "cells": [
  {
   "cell_type": "markdown",
   "id": "3340d0a5",
   "metadata": {},
   "source": [
    "We use ST human melanoma data as an example to show how to use DIST python package to perform self-supervised learning Spatial Transcriptomics enhancement.\n",
    "In the following, we analysis mel1_rep1, a sample of human melanoma data. The count matrix of mel1_rep1 can be found in folder *data* or be downloaded from [spatialresearch.org](https://www.spatialresearch.org/resources-published-datasets/doi-10-1158-0008-5472-can-18-0747/)"
   ]
  },
  {
   "cell_type": "code",
   "execution_count": 4,
   "id": "5effa5dc",
   "metadata": {},
   "outputs": [],
   "source": [
    "import anndata as ad\n",
    "import scanpy as sc\n",
    "from DIST import *"
   ]
  },
  {
   "cell_type": "markdown",
   "id": "b46274b6",
   "metadata": {},
   "source": [
    "## Data preparation"
   ]
  },
  {
   "cell_type": "markdown",
   "id": "0293dd08",
   "metadata": {},
   "source": [
    "Load count matrix and spot coordinates matrix of mel1_rep1 to create anndata.AnnData object.  \n",
    "Self-learning means training set and test set are from the same saptial transcriptomic data, so we only load a sample."
   ]
  },
  {
   "cell_type": "code",
   "execution_count": 5,
   "id": "eae70144",
   "metadata": {
    "scrolled": true
   },
   "outputs": [
    {
     "data": {
      "text/plain": [
       "AnnData object with n_obs × n_vars = 279 × 15666\n",
       "    obs: 'array_row', 'array_col'"
      ]
     },
     "execution_count": 5,
     "metadata": {},
     "output_type": "execute_result"
    }
   ],
   "source": [
    "file_path=\"data/mel1_rep1/\"\n",
    "counts=pd.read_csv(file_path+\"counts.csv\",index_col=0)\n",
    "coords=pd.read_csv(file_path+\"coords.csv\",index_col=0)\n",
    "adata=ad.AnnData(X=counts.values, obs=coords, var=pd.DataFrame(index=counts.columns.values))\n",
    "adata"
   ]
  },
  {
   "cell_type": "markdown",
   "id": "a576c6b4",
   "metadata": {},
   "source": [
    "Define integral_coords. It describes row and column coordinates of some original spots that are expected to preserve. Usually, intergral_coords contains the initial spots of test data without quality control. We add manually some spots coordinates which we want to preserve for tissue structural integrity."
   ]
  },
  {
   "cell_type": "code",
   "execution_count": 6,
   "id": "f103629c",
   "metadata": {},
   "outputs": [],
   "source": [
    "integral_coords = adata.obs[['array_row','array_col']] # This sentence is enough for most saptial transcriptomic data.\n",
    "\n",
    "integral_coords.loc[\"5x10\",:]=[5,10] # We add three spots since they are in tissue but missing. \n",
    "integral_coords.loc[\"10x14\",:]=[10,14]\n",
    "integral_coords.loc[\"15x22\",:]=[15,22]"
   ]
  },
  {
   "cell_type": "markdown",
   "id": "b55b4a34",
   "metadata": {},
   "source": [
    "Quality Control."
   ]
  },
  {
   "cell_type": "code",
   "execution_count": 7,
   "id": "082fff29",
   "metadata": {},
   "outputs": [],
   "source": [
    "sc.pp.calculate_qc_metrics(adata, inplace=True)\n",
    "sc.pp.filter_cells(adata, min_genes=20)\n",
    "sc.pp.filter_genes(adata, min_cells=10)"
   ]
  },
  {
   "cell_type": "markdown",
   "id": "0248a987",
   "metadata": {},
   "source": [
    "Prepare for training set.  \n",
    "In the training process, we choose genes that expressed on over ten percent of total spots. The percentage can be adjusted.\n"
   ]
  },
  {
   "cell_type": "code",
   "execution_count": 8,
   "id": "f6931517",
   "metadata": {},
   "outputs": [],
   "source": [
    "train_adata=adata[:,adata.var[\"n_cells_by_counts\"]>len(adata.obs.index)*0.1]\n",
    "train_counts=np.array(train_adata.X)\n",
    "train_coords=train_adata.obs[['array_row','array_col']]"
   ]
  },
  {
   "cell_type": "markdown",
   "id": "1c8743a6",
   "metadata": {},
   "source": [
    "Prepare for test set."
   ]
  },
  {
   "cell_type": "code",
   "execution_count": 9,
   "id": "6289932f",
   "metadata": {},
   "outputs": [],
   "source": [
    "test_adata=adata\n",
    "test_counts=np.array(test_adata.X)\n",
    "test_coords=test_adata.obs[['array_row','array_col']]"
   ]
  },
  {
   "cell_type": "markdown",
   "id": "57bbcd68",
   "metadata": {},
   "source": [
    "## DIST imputation"
   ]
  },
  {
   "cell_type": "markdown",
   "id": "3bf9245b",
   "metadata": {},
   "source": [
    "Create training and test dataset from expression and cooridate matrix.  \n",
    "Get information about imputed coordinates for transforming outputs of DIST network into expression and coordinates matrices."
   ]
  },
  {
   "cell_type": "code",
   "execution_count": 10,
   "id": "4fd716ce",
   "metadata": {},
   "outputs": [
    {
     "name": "stdout",
     "output_type": "stream",
     "text": [
      "Creating training set costs:  6.78 s\n",
      "Creating testing set costs:  7.08 s\n"
     ]
    }
   ],
   "source": [
    "train_set=getSTtrainset(train_counts, train_coords)\n",
    "test_set=getSTtestset(test_counts, test_coords)\n",
    "position_info=get_ST_position_info(integral_coords)"
   ]
  },
  {
   "cell_type": "markdown",
   "id": "a9adf214",
   "metadata": {},
   "source": [
    "Run DIST."
   ]
  },
  {
   "cell_type": "code",
   "execution_count": 22,
   "id": "fe29a111",
   "metadata": {
    "scrolled": true
   },
   "outputs": [
    {
     "name": "stdout",
     "output_type": "stream",
     "text": [
      "Training: 100%[##################################################->]79.24s\n",
      "\n",
      "Testing: 100%[##################################################->]17.35s\n",
      "\n"
     ]
    }
   ],
   "source": [
    "imputed_img = DIST(train_set, test_set, epoch=200, batch_size=512, gpu='1')\n",
    "imputed_counts, imputed_coords = img2expr(imputed_img, adata.var_names, integral_coords, position_info)"
   ]
  },
  {
   "cell_type": "markdown",
   "id": "f32097dd",
   "metadata": {},
   "source": [
    "Here, we have gotten imputed expression matrix and its spots coordinates matrix. You can create anndata.AnnData object for imputed expression, if necessary."
   ]
  },
  {
   "cell_type": "code",
   "execution_count": 23,
   "id": "db32794f",
   "metadata": {},
   "outputs": [
    {
     "data": {
      "text/plain": [
       "AnnData object with n_obs × n_vars = 1060 × 10266\n",
       "    obs: 'array_row', 'array_col'"
      ]
     },
     "execution_count": 23,
     "metadata": {},
     "output_type": "execute_result"
    }
   ],
   "source": [
    "imputed_adata=ad.AnnData(X=imputed_counts,obs=imputed_coords)\n",
    "imputed_adata"
   ]
  },
  {
   "cell_type": "markdown",
   "id": "acf5f6de",
   "metadata": {},
   "source": [
    "--------------------------------------------------\n",
    "Next, we visualize some genes to show the effect of DIST.\n",
    "## Visualization"
   ]
  },
  {
   "cell_type": "code",
   "execution_count": 26,
   "id": "197cd715",
   "metadata": {},
   "outputs": [],
   "source": [
    "import matplotlib.pyplot as plt\n",
    "%matplotlib inline\n",
    "\n",
    "def plot_genes(adata, show_genes, n=4, size=(20,5),point_size=30, titles=None,cmap=None):\n",
    "    if titles==None:\n",
    "        titles=show_genes\n",
    "    genes_index=[list(adata.var_names).index(gene) for gene in show_genes]\n",
    "    m=len(show_genes)//n+1\n",
    "    plt.figure(figsize=size)\n",
    "    flag=0\n",
    "    for j in range(m):\n",
    "        show_genes0=show_genes[j*n:min(len(show_genes),(j+1)*n)]\n",
    "        \n",
    "        for i in range(n):\n",
    "            if not i<len(show_genes0):\n",
    "                break\n",
    "            plt.subplot(m,n,flag+1)\n",
    "        \n",
    "            plt.scatter(adata.obs['array_row'],adata.obs['array_col'],c=np.array(adata.X)[:,genes_index[flag]],\n",
    "                        marker='s',s=point_size, vmin=0,cmap=cmap)\n",
    "            plt.title(titles[flag])\n",
    "            plt.xticks([])\n",
    "            plt.yticks([])\n",
    "            plt.axis('off')\n",
    "            flag+=1"
   ]
  },
  {
   "cell_type": "code",
   "execution_count": 41,
   "id": "83193614",
   "metadata": {},
   "outputs": [
    {
     "data": {
      "image/png": "[encoded data removed]",
      "text/plain": [
       "<Figure size 720x576 with 3 Axes>"
      ]
     },
     "metadata": {},
     "output_type": "display_data"
    },
    {
     "data": {
      "image/png": "[encoded data removed]",
      "text/plain": [
       "<Figure size 720x576 with 3 Axes>"
      ]
     },
     "metadata": {},
     "output_type": "display_data"
    }
   ],
   "source": [
    "show_genes=['CSPG4','DLL3','CD37']\n",
    "plot_genes(adata, show_genes, n=3, size=(10,8),point_size=42)\n",
    "plot_genes(imputed_adata, show_genes, n=3, size=(10,8),point_size=8)"
   ]
  },
  {
   "cell_type": "code",
   "execution_count": null,
   "id": "1ed94544",
   "metadata": {},
   "outputs": [],
   "source": []
  }
 ],
 "metadata": {
  "kernelspec": {
   "display_name": "testdist",
   "language": "python",
   "name": "testdist"
  },
  "language_info": {
   "codemirror_mode": {
    "name": "ipython",
    "version": 3
   },
   "file_extension": ".py",
   "mimetype": "text/x-python",
   "name": "python",
   "nbconvert_exporter": "python",
   "pygments_lexer": "ipython3",
   "version": "3.6.15"
  }
 },
 "nbformat": 4,
 "nbformat_minor": 5
}
